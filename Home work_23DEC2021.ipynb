{
 "cells": [
  {
   "cell_type": "code",
   "execution_count": 8,
   "id": "c73cf035",
   "metadata": {},
   "outputs": [],
   "source": [
    "#1. you have to write a fun which will take string and return a len of it without using a inbuilt fun len\n",
    "def string_length(a):\n",
    "    \"\"\"to find the length of string\"\"\"\n",
    "    d= 0\n",
    "    for i in a: \n",
    "        i == str\n",
    "        i = 1\n",
    "        d= d+i\n",
    "    return (d)\n",
    "       \n",
    "    "
   ]
  },
  {
   "cell_type": "code",
   "execution_count": 9,
   "id": "6b55e21e",
   "metadata": {},
   "outputs": [
    {
     "data": {
      "text/plain": [
       "11"
      ]
     },
     "execution_count": 9,
     "metadata": {},
     "output_type": "execute_result"
    }
   ],
   "source": [
    "string_length(\"How are you\")"
   ]
  },
  {
   "cell_type": "code",
   "execution_count": 10,
   "id": "007ac230",
   "metadata": {},
   "outputs": [],
   "source": [
    "# Home work Q03.\n",
    "def passward_setting(z):\n",
    "    if string_length(z) <= 6:\n",
    "        return (\"your passward is weak\")\n",
    "    elif string_length (z) <=8:\n",
    "        return (\"your passward is good\")\n",
    "    elif string_length(z)>8 :\n",
    "        return (\"your passward is strong\")\n",
    "    "
   ]
  },
  {
   "cell_type": "code",
   "execution_count": 11,
   "id": "7491b9be",
   "metadata": {},
   "outputs": [
    {
     "data": {
      "text/plain": [
       "'your passward is strong'"
      ]
     },
     "execution_count": 11,
     "metadata": {},
     "output_type": "execute_result"
    }
   ],
   "source": [
    "passward_setting(\"Ineuron@123\")"
   ]
  },
  {
   "cell_type": "code",
   "execution_count": null,
   "id": "8db5b2c7",
   "metadata": {},
   "outputs": [],
   "source": []
  }
 ],
 "metadata": {
  "kernelspec": {
   "display_name": "Python 3 (ipykernel)",
   "language": "python",
   "name": "python3"
  },
  "language_info": {
   "codemirror_mode": {
    "name": "ipython",
    "version": 3
   },
   "file_extension": ".py",
   "mimetype": "text/x-python",
   "name": "python",
   "nbconvert_exporter": "python",
   "pygments_lexer": "ipython3",
   "version": "3.9.7"
  }
 },
 "nbformat": 4,
 "nbformat_minor": 5
}
